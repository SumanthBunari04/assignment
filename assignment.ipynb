{
 "cells": [
  {
   "cell_type": "markdown",
   "id": "05faf66e-1aa1-4097-80d3-0d680bd2f293",
   "metadata": {},
   "source": [
    "# What is the difference between =(equal to) and ==(real equal to) ?"
   ]
  },
  {
   "cell_type": "markdown",
   "id": "e7568a03-6a79-400d-bf30-7a96b6b57b99",
   "metadata": {},
   "source": [
    "### equal to : The “=” is an assignment operator used to assign the value on the right to the variable on the left. "
   ]
  },
  {
   "cell_type": "code",
   "execution_count": 3,
   "id": "0af4ed7e-ccd3-4f66-b5d3-e911d0d6b1cc",
   "metadata": {},
   "outputs": [
    {
     "name": "stdout",
     "output_type": "stream",
     "text": [
      "10\n",
      "20\n",
      "30\n"
     ]
    }
   ],
   "source": [
    "#For Example\n",
    "A = 10; \n",
    "B = 20; \n",
    "C = 30;\n",
    "\n",
    "print(A)\n",
    "print(B)\n",
    "print(C)"
   ]
  },
  {
   "cell_type": "markdown",
   "id": "bbd73eb4-f04b-4d18-a70a-70017f43058f",
   "metadata": {},
   "source": [
    "### Real equal to : The ‘==’ operator checks whether the two given operands are equal or not. If so, it returns true. Otherwise it returns false. "
   ]
  },
  {
   "cell_type": "code",
   "execution_count": 4,
   "id": "43a96743-ee24-4b5d-a8d8-cfa01c411dac",
   "metadata": {},
   "outputs": [
    {
     "name": "stdout",
     "output_type": "stream",
     "text": [
      "False\n"
     ]
    }
   ],
   "source": [
    "#For Example\n",
    "a = 10;\n",
    "b = 20;\n",
    "\n",
    "print(a == b)"
   ]
  },
  {
   "cell_type": "markdown",
   "id": "277cff8d-d3df-469f-ae20-a31bda0ed418",
   "metadata": {},
   "source": [
    "# Apply comparison operators"
   ]
  },
  {
   "cell_type": "code",
   "execution_count": 5,
   "id": "d66a6794-677a-4440-9d57-89b23aa4b992",
   "metadata": {},
   "outputs": [
    {
     "name": "stdout",
     "output_type": "stream",
     "text": [
      "False\n",
      "True\n",
      "True\n",
      "False\n",
      "True\n",
      "False\n"
     ]
    }
   ],
   "source": [
    "A1 = -91;\n",
    "B1 = 32;\n",
    "\n",
    "#equal to(==)\n",
    "print(A1 == B1)\n",
    "\n",
    "#not equal(!=)\n",
    "print(A1 != B1)\n",
    "\n",
    "#less than(<)\n",
    "print(A1 < B1)\n",
    "\n",
    "#greater than(>)\n",
    "print(A1 > B1)\n",
    "\n",
    "#less than or equal to(<=)\n",
    "print(A1 <= B1)\n",
    "\n",
    "#greater than or equal to(>=)\n",
    "print(A1 >= B1)"
   ]
  },
  {
   "cell_type": "markdown",
   "id": "8175b052-a65b-4894-9955-d9df98bb5bed",
   "metadata": {},
   "source": [
    "# Define type() function with three example ?"
   ]
  },
  {
   "cell_type": "markdown",
   "id": "edf2aab4-ffce-4f68-8ecd-af0b42907fed",
   "metadata": {},
   "source": [
    "### The type() function is a built-in function that is used to return the type of data stored in the objects or variables in the program. Two different types of arguments can be passed to type() function."
   ]
  },
  {
   "cell_type": "code",
   "execution_count": 26,
   "id": "3b3099c2-e0d7-4365-9f37-4b2fb9db21fb",
   "metadata": {},
   "outputs": [
    {
     "name": "stdout",
     "output_type": "stream",
     "text": [
      "<class 'int'>\n",
      "<class 'float'>\n",
      "<class 'complex'>\n",
      "10.0\n",
      "(10+0j)\n",
      "11\n",
      "(11.23+0j)\n",
      "189.0\n",
      "(189+0j)\n",
      "1111\n",
      "(1111.2345+0j)\n",
      "789.0\n",
      "(789+0j)\n",
      "5778\n",
      "(5778.25+0j)\n"
     ]
    }
   ],
   "source": [
    "#example\n",
    "X = 6;   #int\n",
    "Y = 5.5; #float\n",
    "Z = 3+1j; #complex\n",
    "print(type(X))\n",
    "print(type(Y))\n",
    "print(type(Z))\n",
    "\n",
    "\n",
    "\n",
    "#example1\n",
    "x1 = 10;    #int\n",
    "y1 = 11.23; #float\n",
    "z1 = 14+8j; #complex\n",
    "\n",
    "#convert from int to float:\n",
    "print(float(x1))\n",
    "\n",
    "#convert from int to complex:\n",
    "print(complex(x1))\n",
    "\n",
    "#convert from float to int:\n",
    "print(int(y1))\n",
    "\n",
    "#convert from float to complex:\n",
    "print(complex(y1))\n",
    "\n",
    "\n",
    "\n",
    "#example2\n",
    "x2 = 189;    #int\n",
    "y2 = 1111.2345; #float\n",
    "z2 = 141+84j; #complex\n",
    "\n",
    "#convert from int to float:\n",
    "print(float(x2))\n",
    "\n",
    "#convert from int to complex:\n",
    "print(complex(x2))\n",
    "\n",
    "#convert from float to int:\n",
    "print(int(y2))\n",
    "\n",
    "#convert from float to complex:\n",
    "print(complex(y2))\n",
    "\n",
    "\n",
    "\n",
    "#example3\n",
    "x3 = 789;    #int\n",
    "y3 = 5778.25; #float\n",
    "z3 = 3546+874j; #complex\n",
    "\n",
    "#convert from int to float:\n",
    "print(float(x3))\n",
    "\n",
    "#convert from int to complex:\n",
    "print(complex(x3))\n",
    "\n",
    "#convert from float to int:\n",
    "print(int(y3))\n",
    "\n",
    "#convert from float to complex:\n",
    "print(complex(y3))"
   ]
  },
  {
   "cell_type": "markdown",
   "id": "5324690f-0dd8-4ef5-848f-af81a6747420",
   "metadata": {},
   "source": [
    "# Define Bool() function with example ?"
   ]
  },
  {
   "cell_type": "markdown",
   "id": "da65aa81-bc8b-4db9-9499-e1981540f5de",
   "metadata": {},
   "source": [
    "### The bool() function returns/converts value to the corresponding boolean value i.e., True or False, using the standard truth testing procedure. "
   ]
  },
  {
   "cell_type": "code",
   "execution_count": 18,
   "id": "dbefe479-dcb1-4ebc-a909-eedf720d9392",
   "metadata": {},
   "outputs": [
    {
     "name": "stdout",
     "output_type": "stream",
     "text": [
      "True\n",
      "False\n",
      "True\n",
      "False\n"
     ]
    }
   ],
   "source": [
    "#example\n",
    "\n",
    "q = bool(1)\n",
    "print(q)\n",
    "\n",
    "w = bool()\n",
    "print(w)\n",
    "\n",
    "print(bool(20.45))\n",
    "print(bool())"
   ]
  },
  {
   "cell_type": "markdown",
   "id": "d065749b-8d93-48db-befa-da30e7d7098c",
   "metadata": {},
   "source": [
    "# Precedence"
   ]
  },
  {
   "cell_type": "markdown",
   "id": "9ea9be4e-ebf0-4508-ba50-48de9003a81b",
   "metadata": {},
   "source": [
    "## 7(2-32)23*23(32-232)/23"
   ]
  },
  {
   "cell_type": "code",
   "execution_count": 27,
   "id": "300d10b6-b09e-424e-b604-ad45227ea2c3",
   "metadata": {},
   "outputs": [
    {
     "data": {
      "text/plain": [
       "497.30434782608694"
      ]
     },
     "execution_count": 27,
     "metadata": {},
     "output_type": "execute_result"
    }
   ],
   "source": [
    "#addition\n",
    "7+(2-32)+23*23+(32-232)/23"
   ]
  },
  {
   "cell_type": "code",
   "execution_count": 28,
   "id": "7cb6a318-9a03-45fb-b01a-67f34d79b88d",
   "metadata": {},
   "outputs": [
    {
     "data": {
      "text/plain": [
       "966000.0"
      ]
     },
     "execution_count": 28,
     "metadata": {},
     "output_type": "execute_result"
    }
   ],
   "source": [
    "#multiplication\n",
    "7*(2-32)*23*23*(32-232)/23"
   ]
  },
  {
   "cell_type": "code",
   "execution_count": 29,
   "id": "0e0d4cc1-8b21-4afa-9659-64f45bb88070",
   "metadata": {},
   "outputs": [
    {
     "data": {
      "text/plain": [
       "5.072463768115943e-05"
      ]
     },
     "execution_count": 29,
     "metadata": {},
     "output_type": "execute_result"
    }
   ],
   "source": [
    "#division\n",
    "7/(2-32)/23*23/(32-232)/23"
   ]
  },
  {
   "cell_type": "markdown",
   "id": "597ad0f0-6acf-4abd-b538-9d0b3bebc783",
   "metadata": {},
   "source": [
    "## 78-23+23+23+12+123-232(34/54*34+4)34"
   ]
  },
  {
   "cell_type": "code",
   "execution_count": 30,
   "id": "f3ce2f47-4a74-4cd0-905b-16448bc9ca7b",
   "metadata": {},
   "outputs": [
    {
     "data": {
      "text/plain": [
       "63.407407407407405"
      ]
     },
     "execution_count": 30,
     "metadata": {},
     "output_type": "execute_result"
    }
   ],
   "source": [
    "#addition\n",
    "78-23+23+23+12+123-232+(34/54*34+4)+34"
   ]
  },
  {
   "cell_type": "code",
   "execution_count": 31,
   "id": "7ef205f5-6044-4ff2-b91a-5ab5db34e6ce",
   "metadata": {},
   "outputs": [
    {
     "data": {
      "text/plain": [
       "-200177.62962962966"
      ]
     },
     "execution_count": 31,
     "metadata": {},
     "output_type": "execute_result"
    }
   ],
   "source": [
    "#multiplication\n",
    "78-23+23+23+12+123-232*(34/54*34+4)*34"
   ]
  },
  {
   "cell_type": "code",
   "execution_count": null,
   "id": "fc80801d-36c3-4857-9fa8-86625eeb7527",
   "metadata": {},
   "outputs": [],
   "source": [
    "#division"
   ]
  }
 ],
 "metadata": {
  "kernelspec": {
   "display_name": "Python 3 (ipykernel)",
   "language": "python",
   "name": "python3"
  },
  "language_info": {
   "codemirror_mode": {
    "name": "ipython",
    "version": 3
   },
   "file_extension": ".py",
   "mimetype": "text/x-python",
   "name": "python",
   "nbconvert_exporter": "python",
   "pygments_lexer": "ipython3",
   "version": "3.11.7"
  }
 },
 "nbformat": 4,
 "nbformat_minor": 5
}
